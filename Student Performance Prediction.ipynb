# 🎓 Student Performance Prediction

import pandas as pd
import numpy as np
import seaborn as sns
import matplotlib.pyplot as plt

from sklearn.model_selection import train_test_split
from sklearn.preprocessing import LabelEncoder
from sklearn.ensemble import RandomForestClassifier
from sklearn.metrics import accuracy_score, confusion_matrix, classification_report

# Load dataset
url = "https://raw.githubusercontent.com/selva86/datasets/master/StudentsPerformance.csv"
df = pd.read_csv(url)

# Encode categorical features
label_cols = ['gender', 'race/ethnicity', 'parental level of education', 'lunch', 'test preparation course']
df[label_cols] = df[label_cols].apply(LabelEncoder().fit_transform)

# Add target column: 'pass' if average score ≥ 40
df['average_score'] = df[['math score', 'reading score', 'writing score']].mean(axis=1)
df['pass/fail'] = df['average_score'].apply(lambda x: 1 if x >= 40 else 0)

# Features and target
X = df.drop(['average_score', 'pass/fail'], axis=1)
y = df['pass/fail']

# Split
X_train, X_test, y_train, y_test = train_test_split(X, y, test_size=0.2, random_state=42)

# Train model
model = RandomForestClassifier(n_estimators=100, random_state=42)
model.fit(X_train, y_train)

# Predict and evaluate
y_pred = model.predict(X_test)

print("Accuracy:", accuracy_score(y_test, y_pred))
print("Classification Report:\n", classification_report(y_test, y_pred))

# Confusion matrix
sns.heatmap(confusion_matrix(y_test, y_pred), annot=True, cmap="Blues")
plt.title("Confusion Matrix")
plt.xlabel("Predicted")
plt.ylabel("Actual")
plt.show()
